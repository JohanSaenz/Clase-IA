{
 "cells": [
  {
   "cell_type": "markdown",
   "id": "4b42f5c2",
   "metadata": {},
   "source": [
    "# <span style=\"color: blue;\">Taller numpy</span>\n",
    "\n",
    "## <span style=\"color: blue;\">Autor</span>\n",
    "\n",
    "* Johan Stevan Sáenz Robayo.\n",
    "\n",
    "## Contenido\n",
    "* ¿Qué es ?\n",
    "  * ¿Por qué usar arrays de numpy y no listas o tuplas de python?\n",
    "* Creación básica de arrays\n",
    "* Indexación básica \n",
    "* Diferentes tipos de datos en los arrays\n",
    "* Forma de los arrays\n",
    "  * Reformar arrays\n",
    "  * Dimensión desconocida\n",
    "  * Transpuesta\n",
    "* Iterar arrays\n",
    "* Aplicar operaciones entre arrays\n",
    "  * Suma\n",
    "  * Multiplicación \n",
    "  * Multiplicación matricial\n",
    "\n",
    "## <span style=\"color: blue;\">¿Qué es?</span>\n",
    "  \n",
    "Numpy es un paquete con base en python, para manejo de conjuntos o \"arrays\".\n",
    "\n",
    "\n",
    "### <span style=\"color: blue;\">¿Por qué usar arrays de numpy y no listas o tuplas de python?</span>\n",
    "\n",
    "Usar arrays gasta menos memoria."
   ]
  },
  {
   "cell_type": "code",
   "execution_count": 1,
   "id": "b05d7e32",
   "metadata": {},
   "outputs": [],
   "source": [
    "# Importando numpy\n",
    "import numpy as np "
   ]
  },
  {
   "cell_type": "markdown",
   "id": "ade3bd37",
   "metadata": {},
   "source": [
    "## <span style=\"color: blue;\">Creación básica de arrays</span>\n",
    "Se pueden crear arrays de diferentes dimensiones, usando números, listas o tuplas."
   ]
  },
  {
   "cell_type": "code",
   "execution_count": 23,
   "id": "28fb7ae6",
   "metadata": {},
   "outputs": [
    {
     "name": "stdout",
     "output_type": "stream",
     "text": [
      "a = Hola \n",
      "\n",
      "b = [1 2 3 4] \n",
      "\n",
      "c = [[1 2 3 4]\n",
      " [5 6 7 8]] \n",
      "\n",
      "d = [[[ 1  2  3  4]\n",
      "  [ 5  6  7  8]]\n",
      "\n",
      " [[ 9 10 11 12]\n",
      "  [13 14 15 16]]] \n",
      "\n",
      "e = [[[[1 2]\n",
      "   [3 4]]]\n",
      "\n",
      "\n",
      " [[[5 6]\n",
      "   [7 8]]]] \n",
      "\n"
     ]
    }
   ],
   "source": [
    "a=np.array(\"Hola\") #array de dimensión 0\n",
    "b=np.array([1,2,3,4]) #array de dimensión 1\n",
    "c=np.array([[1,2,3,4,],[5,6,7,8,]]) #arrar de dimensión 2\n",
    "d=np.array([[[1,2,3,4],[5,6,7,8]],[[9,10,11,12],[13,14,15,16]]]) #array de dimensión 3\n",
    "e=np.array([[[[1,2], [3,4]]],[[[5,6], [7,8]]]]) #array de dismensión 4\n",
    "\n",
    "print(\"a =\",a,\"\\n\")\n",
    "print(\"b =\",b,\"\\n\")\n",
    "print(\"c =\",c,\"\\n\")\n",
    "print(\"d =\",d,\"\\n\")\n",
    "print(\"e =\",e,\"\\n\")"
   ]
  },
  {
   "cell_type": "markdown",
   "id": "f4a47d50",
   "metadata": {},
   "source": [
    "Para verificar la dimensionalidad se usa `ndim`"
   ]
  },
  {
   "cell_type": "code",
   "execution_count": 24,
   "id": "ba0c2f48",
   "metadata": {},
   "outputs": [
    {
     "name": "stdout",
     "output_type": "stream",
     "text": [
      "0\n",
      "1\n",
      "2\n",
      "3\n",
      "4\n"
     ]
    }
   ],
   "source": [
    "print(a.ndim)\n",
    "print(b.ndim)\n",
    "print(c.ndim)\n",
    "print(d.ndim)\n",
    "print(e.ndim)"
   ]
  },
  {
   "cell_type": "markdown",
   "id": "412b559c",
   "metadata": {},
   "source": [
    "## <span style=\"color: blue;\">Indexación básica</span>\n",
    "La indexación en numpy es similar a las lsitas de python, el conteo empiza desde 0. Cada número implica buscar en la posicioón en cada dimensión del array"
   ]
  },
  {
   "cell_type": "code",
   "execution_count": 25,
   "id": "74291ef3",
   "metadata": {},
   "outputs": [
    {
     "name": "stdout",
     "output_type": "stream",
     "text": [
      "a = Hola\n",
      "b[2] =  3\n",
      "c[1] = [5 6 7 8]\n",
      "d[1] = [[ 9 10 11 12]\n",
      " [13 14 15 16]]\n",
      "e[0] = [[[1 2]\n",
      "  [3 4]]]\n"
     ]
    }
   ],
   "source": [
    "print(\"a =\",a)\n",
    "print(\"b[2] = \",b[2])\n",
    "print(\"c[1] =\",c[1])\n",
    "print(\"d[1] =\",d[1])\n",
    "print(\"e[0] =\",e[0])"
   ]
  },
  {
   "cell_type": "code",
   "execution_count": 40,
   "id": "063feab6",
   "metadata": {},
   "outputs": [
    {
     "name": "stdout",
     "output_type": "stream",
     "text": [
      "a = Hola\n",
      "b[2] = 3\n",
      "c[1,2] = 7\n",
      "d[1,0,2] = 11\n",
      "e[0,0,0,1] = 2\n"
     ]
    }
   ],
   "source": [
    "print(\"a =\",a)\n",
    "print(\"b[2] =\",b[2])\n",
    "print(\"c[1,2] =\",c[1,2])\n",
    "print(\"d[1,0,2] =\",d[1,0,2])\n",
    "print(\"e[0,0,0,1] =\",  e[0,0,0,1])"
   ]
  },
  {
   "cell_type": "markdown",
   "id": "a998d1ef",
   "metadata": {},
   "source": [
    "se pueden segmentar los *arrays* como las listas de python."
   ]
  },
  {
   "cell_type": "code",
   "execution_count": 41,
   "id": "254d0427",
   "metadata": {},
   "outputs": [
    {
     "name": "stdout",
     "output_type": "stream",
     "text": [
      "[2 3 4]\n",
      "[6 7]\n"
     ]
    }
   ],
   "source": [
    "print(b[1:4]) #b = [1 2 3 4] \n",
    "print(c[1,1:3]) #c = [[1 2 3 4][5 6 7 8]] "
   ]
  },
  {
   "cell_type": "markdown",
   "id": "ce26f211",
   "metadata": {},
   "source": [
    "## <span style=\"color: blue;\">Diferentes tipos de datos en los arrays</span>\n",
    "\n",
    "Los arrays también pueden tener cadenas (carácteres), booleanos y punto flotante."
   ]
  },
  {
   "cell_type": "code",
   "execution_count": 42,
   "id": "3351e767",
   "metadata": {},
   "outputs": [
    {
     "name": "stdout",
     "output_type": "stream",
     "text": [
      "<U7\n"
     ]
    }
   ],
   "source": [
    "frutas = np.array(['Manzana', 'Naranja', 'Uva']) #cadenas\n",
    "print(frutas.dtype)"
   ]
  },
  {
   "cell_type": "markdown",
   "id": "668fef1f",
   "metadata": {},
   "source": [
    "Se pueden manipulas los arrays con la función creadora de array `np.array`, desde que el cambio sea posible, como parar de enteros a carácteres, pero no viceversa."
   ]
  },
  {
   "cell_type": "code",
   "execution_count": 44,
   "id": "24e6af8e",
   "metadata": {},
   "outputs": [
    {
     "name": "stdout",
     "output_type": "stream",
     "text": [
      "|S3\n",
      "[b'6' b'1' b'2' b'4' b'623' b'8' b'a']\n"
     ]
    }
   ],
   "source": [
    "number_to_string=np.array([6,1,2,4,623,8, \"a\"], dtype='S') #b denota un string\n",
    "print(number_to_string.dtype)\n",
    "print(number_to_string)"
   ]
  },
  {
   "cell_type": "code",
   "execution_count": 49,
   "id": "c8ab3ff9",
   "metadata": {},
   "outputs": [
    {
     "name": "stdout",
     "output_type": "stream",
     "text": [
      "hay un error en su lógica, no todos son enteros\n"
     ]
    }
   ],
   "source": [
    "try:\n",
    "    error_array = np.array([1,2, \"a\"], dtype='i')\n",
    "except:\n",
    "    print(\"hay un error en su lógica, no todos son enteros\")"
   ]
  },
  {
   "cell_type": "markdown",
   "id": "3465c57a",
   "metadata": {},
   "source": [
    "Tambien se puede cambiar el tipon de los arrays"
   ]
  },
  {
   "cell_type": "code",
   "execution_count": 54,
   "id": "ba1b32c3",
   "metadata": {},
   "outputs": [
    {
     "name": "stdout",
     "output_type": "stream",
     "text": [
      "[1 2 3 4]\n",
      "[b'1.1343' b'2.1311' b'3.13643' b'4.255']\n",
      "b'3.13643'\n"
     ]
    }
   ],
   "source": [
    "floating_array = np.array([1.1343, 2.1311, 3.13643, 4.255]) #punto flotante\n",
    "\n",
    "int_array = floating_array.astype('i')\n",
    "str_array = floating_array.astype(\"S\")\n",
    "print(int_array)\n",
    "print(str_array)"
   ]
  },
  {
   "cell_type": "markdown",
   "id": "017c632f",
   "metadata": {},
   "source": [
    "## <span style=\"color: blue;\">Forma de los arrys</span>\n",
    "La forma es distinta a la dimensión. Esta se define como el número de elementos de la dimensión."
   ]
  },
  {
   "cell_type": "code",
   "execution_count": 55,
   "id": "d6914ce1",
   "metadata": {},
   "outputs": [
    {
     "name": "stdout",
     "output_type": "stream",
     "text": [
      "()\n",
      "(4,)\n",
      "(2, 4)\n",
      "(2, 2, 4)\n",
      "(2, 1, 2, 2)\n"
     ]
    }
   ],
   "source": [
    "print(a.shape) # a = 13 \n",
    "print(b.shape) # b = [1 2 3 4] \n",
    "print(c.shape) # c = [[1 2 3 4][5 6 7 8]] \n",
    "print(d.shape) # d = [[[ 1  2  3  4][ 5  6  7  8]] [[ 9 10 11 12][13 14 15 16]]] \n",
    "print(e.shape) # e = [[[[1 2] [3 4]]] [[[5 6] [7 8]]]] "
   ]
  },
  {
   "cell_type": "markdown",
   "id": "bf003ac1",
   "metadata": {},
   "source": [
    "### <span style=\"color: blue;\">Reformar arrys</span>\n",
    "Podemos cambiar la forma de los arrays. Esto significa aumentar el número de dimensiones o cambiar cuantos elementos hay por dimensión."
   ]
  },
  {
   "cell_type": "code",
   "execution_count": 66,
   "id": "002706a6",
   "metadata": {},
   "outputs": [
    {
     "name": "stdout",
     "output_type": "stream",
     "text": [
      "c = [[1 2 3 4]\n",
      " [5 6 7 8]] \n",
      "\n",
      "c_1D = [[1 2 3 4 5 6 7 8]] \n",
      "\n",
      "c_4D = [[[[1 2]]]\n",
      "\n",
      "\n",
      " [[[3 4]]]\n",
      "\n",
      "\n",
      " [[[5 6]]]\n",
      "\n",
      "\n",
      " [[[7 8]]]] \n",
      "\n",
      "4\n"
     ]
    }
   ],
   "source": [
    "print(\"c =\",c,\"\\n\")\n",
    "c_1D=c.reshape(1,8)\n",
    "print(\"c_1D =\",c_1D,\"\\n\")\n",
    "c_4D=c.reshape(4,1,1,2)\n",
    "print(\"c_4D =\",c_4D,\"\\n\")\n",
    "\n",
    "print(c_4D.ndim)\n"
   ]
  },
  {
   "cell_type": "markdown",
   "id": "d2715da9",
   "metadata": {},
   "source": [
    "¿Podemos hacer cualquier cambio en la forma? Si, mientras las que se quieren conseguir coincidan con la cantidad de elementos."
   ]
  },
  {
   "cell_type": "code",
   "execution_count": 67,
   "id": "7a1ff511",
   "metadata": {},
   "outputs": [
    {
     "name": "stdout",
     "output_type": "stream",
     "text": [
      "[[[ 1  2  3  4]\n",
      "  [ 5  6  7  8]]\n",
      "\n",
      " [[ 9 10 11 12]\n",
      "  [13 14 15 16]]]\n"
     ]
    }
   ],
   "source": [
    "print(d)"
   ]
  },
  {
   "cell_type": "markdown",
   "id": "785c3243",
   "metadata": {},
   "source": [
    "`d` es un array con 16 elementos, así que podemos hacer reshape con tamaños por ejemplo 1x16, 4x4, 8x2, 2x4x2 Por ejemplo, no podemos reformar un array a 3x5."
   ]
  },
  {
   "cell_type": "code",
   "execution_count": 68,
   "id": "da549cc5",
   "metadata": {},
   "outputs": [
    {
     "name": "stdout",
     "output_type": "stream",
     "text": [
      "Hay un error en sus operaciones, dimensiones no coinciden\n"
     ]
    }
   ],
   "source": [
    "try:\n",
    "    d.reshape(3,5)\n",
    "except:\n",
    "    print('Hay un error en sus operaciones, dimensiones no coinciden')"
   ]
  },
  {
   "cell_type": "code",
   "execution_count": 72,
   "id": "43c5d436",
   "metadata": {},
   "outputs": [
    {
     "name": "stdout",
     "output_type": "stream",
     "text": [
      "d1 = [[[[ 1  2]\n",
      "   [ 3  4]]\n",
      "\n",
      "  [[ 5  6]\n",
      "   [ 7  8]]]\n",
      "\n",
      "\n",
      " [[[ 9 10]\n",
      "   [11 12]]\n",
      "\n",
      "  [[13 14]\n",
      "   [15 16]]]]\n",
      "dimensión de d = 3\n",
      "dimensión de d1 = 4\n"
     ]
    }
   ],
   "source": [
    "d1=d.reshape(2,2,2,2)\n",
    "print(\"d1 =\", d1)\n",
    "print(\"dimensión de d =\",d.ndim)\n",
    "print(\"dimensión de d1 =\",d1.ndim)"
   ]
  },
  {
   "cell_type": "markdown",
   "id": "60426a26",
   "metadata": {},
   "source": [
    "### <span style=\"color: blue;\">Dimensión desconocida</span>\n",
    "podemos definir el cambio de la forma con una dimensión la cual no sabemos el tamaño. Numpy se encargará de denir el tamaño que mejor se ajuste."
   ]
  },
  {
   "cell_type": "code",
   "execution_count": 73,
   "id": "0f974d7e",
   "metadata": {},
   "outputs": [
    {
     "data": {
      "text/plain": [
       "array([[1, 2, 3],\n",
       "       [4, 5, 6],\n",
       "       [7, 8, 9]])"
      ]
     },
     "execution_count": 73,
     "metadata": {},
     "output_type": "execute_result"
    }
   ],
   "source": [
    "arr = np.array([1, 2, 3, 4, 5, 6, 7, 8, 9])\n",
    "arr.reshape(3,-1)"
   ]
  },
  {
   "cell_type": "markdown",
   "id": "434f8a6b",
   "metadata": {},
   "source": [
    "Podemos usar la dimensión desconocida para \"aplanar\" el array a una dimensión."
   ]
  },
  {
   "cell_type": "code",
   "execution_count": 76,
   "id": "6079af78",
   "metadata": {},
   "outputs": [
    {
     "name": "stdout",
     "output_type": "stream",
     "text": [
      "[ 1  2  3  4  5  6  7  8  9 10 11 12 13 14 15 16]\n",
      "La dimensión es 1\n"
     ]
    }
   ],
   "source": [
    "d2=d.reshape(-1)\n",
    "print(d2)\n",
    "print(\"La dimensión es\",d2.ndim)"
   ]
  },
  {
   "cell_type": "markdown",
   "id": "0365259e",
   "metadata": {},
   "source": [
    "### <span style=\"color: blue;\">Transpuesta</span>\n",
    "Para transponer arrays se utiliza `.T`. "
   ]
  },
  {
   "cell_type": "code",
   "execution_count": 80,
   "id": "16ac0f1a",
   "metadata": {},
   "outputs": [
    {
     "name": "stdout",
     "output_type": "stream",
     "text": [
      "d = [[[ 1  2  3  4]\n",
      "  [ 5  6  7  8]]\n",
      "\n",
      " [[ 9 10 11 12]\n",
      "  [13 14 15 16]]] \n",
      "\n",
      "d.T = [[[ 1  9]\n",
      "  [ 5 13]]\n",
      "\n",
      " [[ 2 10]\n",
      "  [ 6 14]]\n",
      "\n",
      " [[ 3 11]\n",
      "  [ 7 15]]\n",
      "\n",
      " [[ 4 12]\n",
      "  [ 8 16]]] \n",
      "\n",
      "c = [[1 2 3 4]\n",
      " [5 6 7 8]] \n",
      "\n",
      "c.T = [[1 5]\n",
      " [2 6]\n",
      " [3 7]\n",
      " [4 8]]\n"
     ]
    }
   ],
   "source": [
    "print(\"d =\",d,\"\\n\")\n",
    "print(\"d.T =\",d.T, \"\\n\")\n",
    "\n",
    "print(\"c =\",c,\"\\n\")\n",
    "print(\"c.T =\",c.T)"
   ]
  },
  {
   "cell_type": "markdown",
   "id": "3212d5c1",
   "metadata": {},
   "source": [
    "## <span style=\"color: blue;\">Iterar arrays</span>\n",
    "Podemos usar los métodos tradicionales para iterar."
   ]
  },
  {
   "cell_type": "code",
   "execution_count": 83,
   "id": "4f1d97c5",
   "metadata": {},
   "outputs": [
    {
     "name": "stdout",
     "output_type": "stream",
     "text": [
      "[[[1 2]\n",
      "  [3 4]]]\n",
      "[[[5 6]\n",
      "  [7 8]]]\n"
     ]
    }
   ],
   "source": [
    "for x in e:\n",
    "    print(x)"
   ]
  },
  {
   "cell_type": "markdown",
   "id": "0aa2e889",
   "metadata": {},
   "source": [
    "Si queremos iterar cada elemento, necesitamos un `for` por cada dimensión"
   ]
  },
  {
   "cell_type": "code",
   "execution_count": 86,
   "id": "4d262af2",
   "metadata": {},
   "outputs": [
    {
     "name": "stdout",
     "output_type": "stream",
     "text": [
      "1\n",
      "2\n",
      "3\n",
      "4\n",
      "5\n",
      "6\n",
      "7\n",
      "8\n"
     ]
    }
   ],
   "source": [
    "for x in e:\n",
    "    for y in x:\n",
    "        for z in y:\n",
    "            for k in z:\n",
    "                print(k)"
   ]
  },
  {
   "cell_type": "markdown",
   "id": "19718c90",
   "metadata": {},
   "source": [
    "Esto Por supuesto no es óptimo. Para ello numpy tiene la función `nditer()` para estos casos."
   ]
  },
  {
   "cell_type": "code",
   "execution_count": 87,
   "id": "16960ace",
   "metadata": {},
   "outputs": [
    {
     "name": "stdout",
     "output_type": "stream",
     "text": [
      "1\n",
      "2\n",
      "3\n",
      "4\n",
      "5\n",
      "6\n",
      "7\n",
      "8\n"
     ]
    }
   ],
   "source": [
    "for x in np.nditer(e):\n",
    "    print(x)"
   ]
  },
  {
   "cell_type": "markdown",
   "id": "4ec2615e",
   "metadata": {},
   "source": [
    "## <span style=\"color: blue;\">Aplicar operaciones entre arrays</span>\n",
    "*numpy* tiene sus propias formas de aplicar operaciones:\n",
    "\n",
    "### <span style=\"color: blue;\">Suma</span>\n",
    "*numpy* tiene dos funciones, `np.add()` y `np.sum`. El primero se aplica entre argumentos, el segundo se aplica en n elementos para que se haga la suma, es necesario que ambos arrays tengan la misma forma."
   ]
  },
  {
   "cell_type": "code",
   "execution_count": 88,
   "id": "1b7d1332",
   "metadata": {},
   "outputs": [
    {
     "data": {
      "text/plain": [
       "array([[7, 7, 7],\n",
       "       [7, 7, 7]])"
      ]
     },
     "execution_count": 88,
     "metadata": {},
     "output_type": "execute_result"
    }
   ],
   "source": [
    "arr1=np.array([[1,2,3],\n",
    "               [4,5,6]])\n",
    "arr2=np.array([[6,5,4],\n",
    "               [3,2,1]])\n",
    "np.add(arr1,arr2)"
   ]
  },
  {
   "cell_type": "code",
   "execution_count": 90,
   "id": "64cb747f",
   "metadata": {},
   "outputs": [
    {
     "name": "stdout",
     "output_type": "stream",
     "text": [
      "42\n",
      "54\n"
     ]
    }
   ],
   "source": [
    "arr3=np.array([[2,2,2],[2,2,2]])\n",
    "print(np.sum([arr1,arr2]))\n",
    "print(np.sum([arr1,arr2,arr3]))"
   ]
  },
  {
   "cell_type": "markdown",
   "id": "6bd37e18",
   "metadata": {},
   "source": [
    "Si aplicamos un eje en `np.sum()`, se aplica la suma en ese mismo eje. Por ejemplo, con eje 0, se obtiene los mismos resultados que `np.add()`."
   ]
  },
  {
   "cell_type": "code",
   "execution_count": 99,
   "id": "afa74fa7",
   "metadata": {},
   "outputs": [
    {
     "data": {
      "text/plain": [
       "array([[7, 7, 7],\n",
       "       [7, 7, 7]])"
      ]
     },
     "execution_count": 99,
     "metadata": {},
     "output_type": "execute_result"
    }
   ],
   "source": [
    "np.sum([arr1,arr2],axis=0)"
   ]
  },
  {
   "cell_type": "code",
   "execution_count": 100,
   "id": "e2b91be2",
   "metadata": {},
   "outputs": [
    {
     "data": {
      "text/plain": [
       "array([[5, 7, 9],\n",
       "       [9, 7, 5],\n",
       "       [4, 4, 4]])"
      ]
     },
     "execution_count": 100,
     "metadata": {},
     "output_type": "execute_result"
    }
   ],
   "source": [
    "np.sum([arr1,arr2, arr3],axis=1)"
   ]
  },
  {
   "cell_type": "markdown",
   "id": "bd03e170",
   "metadata": {},
   "source": [
    "### <span style=\"color: blue;\">Multiplicación</span>\n",
    "El primer caso de multiplicación es `np.prod()`, que funciona similar que `np.sum()` "
   ]
  },
  {
   "cell_type": "code",
   "execution_count": 101,
   "id": "57076ce0",
   "metadata": {},
   "outputs": [
    {
     "name": "stdout",
     "output_type": "stream",
     "text": [
      "arr1=\n",
      " [[1 2 3]\n",
      " [4 5 6]] \n",
      "\n",
      "arr2=\n",
      " [[6 5 4]\n",
      " [3 2 1]] \n",
      "\n",
      "518400 \n",
      "\n",
      "[[ 6 10 12]\n",
      " [12 10  6]] \n",
      "\n",
      "[[ 4 10 18]\n",
      " [18 10  4]]\n"
     ]
    }
   ],
   "source": [
    "print(\"arr1=\\n\",arr1,\"\\n\")\n",
    "print(\"arr2=\\n\",arr2,\"\\n\")\n",
    "print(np.prod([arr1,arr2]),\"\\n\")\n",
    "print(np.prod([arr1,arr2],axis=0),\"\\n\")\n",
    "print(np.prod([arr1,arr2],axis=1))"
   ]
  },
  {
   "cell_type": "markdown",
   "id": "6be4528a",
   "metadata": {},
   "source": [
    "### <span style=\"color: blue;\">Multiplicación Matricial</span>\n",
    "Para la multiplicación de matrices usamos `np.matmul()` o `np.dot()`. Hay que tener en cuenta la dorma de las matrices"
   ]
  },
  {
   "cell_type": "code",
   "execution_count": 109,
   "id": "8531822e",
   "metadata": {},
   "outputs": [
    {
     "data": {
      "text/plain": [
       "array([[28, 10],\n",
       "       [73, 28]])"
      ]
     },
     "execution_count": 109,
     "metadata": {},
     "output_type": "execute_result"
    }
   ],
   "source": [
    "np.matmul(arr1, arr2.T)"
   ]
  },
  {
   "cell_type": "code",
   "execution_count": 110,
   "id": "c2f1999c",
   "metadata": {},
   "outputs": [
    {
     "data": {
      "text/plain": [
       "array([[28, 10],\n",
       "       [73, 28]])"
      ]
     },
     "execution_count": 110,
     "metadata": {},
     "output_type": "execute_result"
    }
   ],
   "source": [
    "np.dot(arr1, arr2.T)"
   ]
  },
  {
   "cell_type": "markdown",
   "id": "4aa00494",
   "metadata": {},
   "source": [
    "Se comportan igual con matrices de dos dimensiones, para otros casos hacen cosas distintas"
   ]
  },
  {
   "cell_type": "code",
   "execution_count": 111,
   "id": "dbdeab3b",
   "metadata": {},
   "outputs": [
    {
     "name": "stdout",
     "output_type": "stream",
     "text": [
      "d =\n",
      " [[[ 1  2  3  4]\n",
      "  [ 5  6  7  8]]\n",
      "\n",
      " [[ 9 10 11 12]\n",
      "  [13 14 15 16]]] \n",
      "\n",
      "d.reshape =\n",
      " [[[ 1  2]\n",
      "  [ 3  4]\n",
      "  [ 5  6]\n",
      "  [ 7  8]]\n",
      "\n",
      " [[ 9 10]\n",
      "  [11 12]\n",
      "  [13 14]\n",
      "  [15 16]]] \n",
      "\n"
     ]
    },
    {
     "data": {
      "text/plain": [
       "array([[[[ 50,  60],\n",
       "         [130, 140]],\n",
       "\n",
       "        [[114, 140],\n",
       "         [322, 348]]],\n",
       "\n",
       "\n",
       "       [[[178, 220],\n",
       "         [514, 556]],\n",
       "\n",
       "        [[242, 300],\n",
       "         [706, 764]]]])"
      ]
     },
     "execution_count": 111,
     "metadata": {},
     "output_type": "execute_result"
    }
   ],
   "source": [
    "print(\"d =\\n\",d,\"\\n\") #2,2,4\n",
    "print(\"d.reshape =\\n\",d.reshape(2,4,2),\"\\n\") #2,4,2\n",
    "np.dot(d,d.reshape(2,4,2)) #2,2,2,2"
   ]
  },
  {
   "cell_type": "code",
   "execution_count": 112,
   "id": "9c6fcafd",
   "metadata": {},
   "outputs": [
    {
     "name": "stdout",
     "output_type": "stream",
     "text": [
      "[[ 50  60]\n",
      " [114 140]] \n",
      "\n",
      "[[130 140]\n",
      " [322 348]] \n",
      "\n",
      "[[178 220]\n",
      " [242 300]] \n",
      "\n",
      "[[514 556]\n",
      " [706 764]] \n",
      "\n"
     ]
    }
   ],
   "source": [
    "print(np.dot(d[0],d.reshape(2,4,2)[0]),\"\\n\")\n",
    "print(np.dot(d[0],d.reshape(2,4,2)[1]),\"\\n\")\n",
    "print(np.dot(d[1],d.reshape(2,4,2)[0]),\"\\n\")\n",
    "print(np.dot(d[1],d.reshape(2,4,2)[1]),\"\\n\")"
   ]
  },
  {
   "cell_type": "markdown",
   "id": "64ec6fce",
   "metadata": {},
   "source": [
    "Con *matmul* no se pueden multiplicar escalares c.A (c escalar, A matriz), además Matmul hace las multiplicaciones matriz a matriz (matrices como elementos), de ahí la diferencia con dot, donde este toma los números dentro de las matrices como elementos."
   ]
  },
  {
   "cell_type": "code",
   "execution_count": 113,
   "id": "f0537479",
   "metadata": {},
   "outputs": [
    {
     "data": {
      "text/plain": [
       "array([[[ 50,  60],\n",
       "        [114, 140]],\n",
       "\n",
       "       [[514, 556],\n",
       "        [706, 764]]])"
      ]
     },
     "execution_count": 113,
     "metadata": {},
     "output_type": "execute_result"
    }
   ],
   "source": [
    "np.matmul(d,d.reshape(2,4,2))"
   ]
  }
 ],
 "metadata": {
  "kernelspec": {
   "display_name": "Python 3 (ipykernel)",
   "language": "python",
   "name": "python3"
  },
  "language_info": {
   "codemirror_mode": {
    "name": "ipython",
    "version": 3
   },
   "file_extension": ".py",
   "mimetype": "text/x-python",
   "name": "python",
   "nbconvert_exporter": "python",
   "pygments_lexer": "ipython3",
   "version": "3.8.13"
  }
 },
 "nbformat": 4,
 "nbformat_minor": 5
}
